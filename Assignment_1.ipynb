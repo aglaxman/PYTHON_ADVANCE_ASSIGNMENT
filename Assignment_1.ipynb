{
 "cells": [
  {
   "attachments": {},
   "cell_type": "markdown",
   "metadata": {},
   "source": [
    "                    Assignment_1"
   ]
  },
  {
   "attachments": {},
   "cell_type": "markdown",
   "metadata": {},
   "source": [
    "1.  What is the purpose of Python's OOP?¶\n",
    "\n",
    "1)Provides a clear program structure and a clean code\n",
    "\n",
    "2)Facilitates easy maintenance and modification of existing code.\n",
    "\n",
    "3)Since the class is sharable, the code can be reused.\n",
    "\n",
    "4)Since the class is sharable, the code can be reused and many other such Advantages."
   ]
  },
  {
   "attachments": {},
   "cell_type": "markdown",
   "metadata": {},
   "source": [
    "2. Where does an inheritance search look for an attribute?\n",
    "\n",
    "Ans=Attribute fetches are simply tree searches. The term inheritance is applied because objects lower in a tree inherit attributes attached to objects higher in that tree. As the search proceeds from the bottom up, in a sense, the objects linked into a tree are the union of all the attributes defined in all their tree parents, all the way up the tree."
   ]
  },
  {
   "attachments": {},
   "cell_type": "markdown",
   "metadata": {},
   "source": [
    "3. How do you distinguish between a class object and an instance object?\n",
    "\n",
    "Ans=Objects and Instances are almost similar and are often used interchangeably but with a small difference. Object is a generic term , it is physically present but remains undiferrentiated. Instance is something that gives them a separate identity.\n",
    "\n",
    "Object is the physical entity for which memory is allocated. Object contains many instances.\n",
    "\n",
    "Instance : An instance is also the physical manifestation of a class that occupies memory and has data members.\n",
    "\n",
    "e.g. There is Class car, when I create c = car(), c is object. When we create different object with different specifications(car name, type, company) such as i10, i20, Creta, audi7 are called as instances which actually exists."
   ]
  },
  {
   "attachments": {},
   "cell_type": "markdown",
   "metadata": {},
   "source": [
    "4. What makes the first argument in a class’s method function special?\n",
    "\n",
    "Ans=Self represents the instance of the class. By using the “self” keyword we can access the attributes and methods of the class in python. It binds the attributes with the given arguments.The reason you need to use self. is because Python does not use the @ syntax to refer to instance attributes. Python decided to do methods in a way that makes the instance to which the method belongs be passed automatically, but not received automatically: the first parameter of methods is the instance the method is called on."
   ]
  },
  {
   "attachments": {},
   "cell_type": "markdown",
   "metadata": {},
   "source": [
    "5. What is the purpose of the init method?\n",
    "\n",
    "Ans=The task of init method is to initialize(assign values) to the data members of the class when an object of class is created. It contains collection of statements that are executed at time of Object creation. It is run as soon as an object of a class is instantiated. The method is useful to do any initialization you want to do with your object."
   ]
  },
  {
   "attachments": {},
   "cell_type": "markdown",
   "metadata": {},
   "source": [
    "6. What is the process for creating a class instance?\n",
    "\n",
    "Ans=To create instances of a class, you call the class using class name and pass in whatever arguments its init method accepts."
   ]
  },
  {
   "attachments": {},
   "cell_type": "markdown",
   "metadata": {},
   "source": [
    "7. What is the process for creating a class?\n",
    "\n",
    "Ans=The class statement creates a new class definition. The name of the class immediately follows the keyword class followed by a colon.Explained below"
   ]
  },
  {
   "cell_type": "code",
   "execution_count": 7,
   "metadata": {},
   "outputs": [
    {
     "name": "stdout",
     "output_type": "stream",
     "text": [
      "this is laxman a g, (an instance of a class)\n"
     ]
    }
   ],
   "source": [
    "class Student:\n",
    "    def __init__(self,name):\n",
    "        self.name=name\n",
    "\n",
    "    def __str__(self):\n",
    "        return f\"this is {self.name}, (an instance of a class)\"\n",
    "\n",
    "Student1=Student('laxman a g')\n",
    "print(Student1)"
   ]
  },
  {
   "attachments": {},
   "cell_type": "markdown",
   "metadata": {},
   "source": [
    "8. How would you define the superclasses of a class?\n",
    "\n",
    "Ans=A superclass is the class from which many subclasses can be created. The subclasses inherit the characteristics of a superclass. The superclass is also known as the parent class or base class"
   ]
  },
  {
   "cell_type": "code",
   "execution_count": 14,
   "metadata": {},
   "outputs": [
    {
     "name": "stdout",
     "output_type": "stream",
     "text": [
      "this is method of class A\n",
      "this is method of class B\n",
      "this is method of class A\n"
     ]
    }
   ],
   "source": [
    "class A:\n",
    "    def method_A(self):\n",
    "        return \"this is method of class A\"\n",
    "\n",
    "class B(A):\n",
    "    def method_B(self):\n",
    "        return \"this is method of class B\"\n",
    "\n",
    "class C(A):\n",
    "    def method_C(self):\n",
    "        return \"this is method of class C\"\n",
    "    \n",
    "class D(A):\n",
    "    def method_D(self):\n",
    "        return \"this is method of class D\"\n",
    "    \n",
    "# class B,C,D are subclass and class A is superclass\n",
    "a=A()\n",
    "b=B()\n",
    "c=C()\n",
    "d=D()\n",
    "\n",
    "print(a.method_A())\n",
    "print(b.method_B())     #objects pf class B,C and D are able to acess method of class\n",
    "print(c.method_A())"
   ]
  }
 ],
 "metadata": {
  "kernelspec": {
   "display_name": "Python 3",
   "language": "python",
   "name": "python3"
  },
  "language_info": {
   "codemirror_mode": {
    "name": "ipython",
    "version": 3
   },
   "file_extension": ".py",
   "mimetype": "text/x-python",
   "name": "python",
   "nbconvert_exporter": "python",
   "pygments_lexer": "ipython3",
   "version": "3.10.11"
  },
  "orig_nbformat": 4
 },
 "nbformat": 4,
 "nbformat_minor": 2
}
